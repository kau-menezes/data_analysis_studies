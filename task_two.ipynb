{
 "cells": [
  {
   "cell_type": "markdown",
   "metadata": {},
   "source": [
    "1. Exploratory Analysis:\n",
    "- a. Load the dataset into a Pandas DataFrame.\n",
    "- b. Display the first few rows and escriptive statistics for the dynamic singal columns (RPM, Speed, Temperature, Fuel_Efficiency).\n",
    "2. Correlation Analysis:\n",
    "- a. Calculate the correlation between Speed, RPM and Fuel_Efficiency.\n",
    "- b. Identify which factor (Speed or RPM) has a stronger impact on Fuel_Efficiency.\n",
    "3. Signal-Based Insights:\n",
    "- a. Categorize vehicles based on their average engine RPM:\n",
    "  - i. Low RPM (<2000 RPM)\n",
    "  - ii. Optimal RPM (2000-4000 RPM)\n",
    "  - iii. High RPM (> 4000 RPM)\n",
    "- b. Count the number of vehicles in each RPM category.\n",
    "- c. Identify vehicles with Temperature > 230°F and classify them as Overheated.\n",
    "4. Visualization:\n",
    "- a. Create a line plot for a sample vehicle showing its RPM, Speed and Fuel_Efficiency over time (simulating time-series analysis).\n",
    "- b. Plot a scatter plot comparing Speed and Fuel_Efficiency with RPM as the color gradient.\n",
    "5. Advanced Signal Processing:\n",
    "- a. Smooth the RPM and Speed signals using a moving average (rolling window)\n",
    "- b. Detect anomalies where Speed and RPM deviate significantly from their moving averages."
   ]
  }
 ],
 "metadata": {
  "language_info": {
   "name": "python"
  }
 },
 "nbformat": 4,
 "nbformat_minor": 2
}
