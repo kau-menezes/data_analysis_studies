{
 "cells": [
  {
   "cell_type": "code",
   "execution_count": null,
   "metadata": {},
   "outputs": [],
   "source": [
    "import pandas as pd\n",
    "import numpy as np\n",
    "import matplotlib.pyplot as plt\n",
    "import seaborn as sns\n",
    "from datetime import datetime"
   ]
  },
  {
   "cell_type": "markdown",
   "metadata": {},
   "source": [
    "1. Load the Dataset: Use Pandas to read the sales_data.csv file into a Dataframe."
   ]
  },
  {
   "cell_type": "code",
   "execution_count": 11,
   "metadata": {},
   "outputs": [],
   "source": [
    "df = pd.read_csv('sales_data.csv')"
   ]
  },
  {
   "cell_type": "code",
   "execution_count": null,
   "metadata": {},
   "outputs": [],
   "source": [
    "df.head(10)"
   ]
  },
  {
   "cell_type": "markdown",
   "metadata": {},
   "source": [
    "2. Clean the Data:\n",
    "- a. Check for missing values adn fill or drop them as appropriate.\n",
    "- b. Convert the Order_Date column to datatime format."
   ]
  },
  {
   "cell_type": "code",
   "execution_count": null,
   "metadata": {},
   "outputs": [],
   "source": [
    "# a\n",
    "df.isnull().sum()"
   ]
  },
  {
   "cell_type": "code",
   "execution_count": 14,
   "metadata": {},
   "outputs": [],
   "source": [
    "# b\n",
    "df['Order_Date'] = pd.to_datetime(df['Order_Date'])"
   ]
  },
  {
   "cell_type": "markdown",
   "metadata": {},
   "source": [
    "3. Analysis:\n",
    "- a. Add a new column Total that claculates the total price for each order.\n",
    "- b. Findthe top 5 products by total sales.\n",
    "- c. Calculate total sales and average order value for each city."
   ]
  },
  {
   "cell_type": "code",
   "execution_count": 20,
   "metadata": {},
   "outputs": [
    {
     "data": {
      "text/html": [
       "<div>\n",
       "<style scoped>\n",
       "    .dataframe tbody tr th:only-of-type {\n",
       "        vertical-align: middle;\n",
       "    }\n",
       "\n",
       "    .dataframe tbody tr th {\n",
       "        vertical-align: top;\n",
       "    }\n",
       "\n",
       "    .dataframe thead th {\n",
       "        text-align: right;\n",
       "    }\n",
       "</style>\n",
       "<table border=\"1\" class=\"dataframe\">\n",
       "  <thead>\n",
       "    <tr style=\"text-align: right;\">\n",
       "      <th></th>\n",
       "      <th>Order_ID</th>\n",
       "      <th>Product</th>\n",
       "      <th>Category</th>\n",
       "      <th>Quantity</th>\n",
       "      <th>Price</th>\n",
       "      <th>Order_Date</th>\n",
       "      <th>Customer_City</th>\n",
       "      <th>Total</th>\n",
       "    </tr>\n",
       "  </thead>\n",
       "  <tbody>\n",
       "    <tr>\n",
       "      <th>0</th>\n",
       "      <td>ORD1000</td>\n",
       "      <td>Keyboard</td>\n",
       "      <td>Accessories</td>\n",
       "      <td>2</td>\n",
       "      <td>420</td>\n",
       "      <td>2023-01-01</td>\n",
       "      <td>Phoenix</td>\n",
       "      <td>840</td>\n",
       "    </tr>\n",
       "    <tr>\n",
       "      <th>1</th>\n",
       "      <td>ORD1001</td>\n",
       "      <td>Laptop</td>\n",
       "      <td>Electronics</td>\n",
       "      <td>5</td>\n",
       "      <td>416</td>\n",
       "      <td>2023-01-02</td>\n",
       "      <td>Houston</td>\n",
       "      <td>2080</td>\n",
       "    </tr>\n",
       "    <tr>\n",
       "      <th>2</th>\n",
       "      <td>ORD1002</td>\n",
       "      <td>Laptop</td>\n",
       "      <td>Electronics</td>\n",
       "      <td>4</td>\n",
       "      <td>236</td>\n",
       "      <td>2023-01-03</td>\n",
       "      <td>Los Angeles</td>\n",
       "      <td>944</td>\n",
       "    </tr>\n",
       "    <tr>\n",
       "      <th>3</th>\n",
       "      <td>ORD1003</td>\n",
       "      <td>Mouse</td>\n",
       "      <td>Accessories</td>\n",
       "      <td>1</td>\n",
       "      <td>289</td>\n",
       "      <td>2023-01-04</td>\n",
       "      <td>Chicago</td>\n",
       "      <td>289</td>\n",
       "    </tr>\n",
       "    <tr>\n",
       "      <th>4</th>\n",
       "      <td>ORD1004</td>\n",
       "      <td>Phone</td>\n",
       "      <td>Electronics</td>\n",
       "      <td>5</td>\n",
       "      <td>424</td>\n",
       "      <td>2023-01-05</td>\n",
       "      <td>Los Angeles</td>\n",
       "      <td>2120</td>\n",
       "    </tr>\n",
       "    <tr>\n",
       "      <th>5</th>\n",
       "      <td>ORD1005</td>\n",
       "      <td>Laptop</td>\n",
       "      <td>Accessories</td>\n",
       "      <td>3</td>\n",
       "      <td>263</td>\n",
       "      <td>2023-01-06</td>\n",
       "      <td>Los Angeles</td>\n",
       "      <td>789</td>\n",
       "    </tr>\n",
       "    <tr>\n",
       "      <th>6</th>\n",
       "      <td>ORD1006</td>\n",
       "      <td>Keyboard</td>\n",
       "      <td>Accessories</td>\n",
       "      <td>3</td>\n",
       "      <td>464</td>\n",
       "      <td>2023-01-07</td>\n",
       "      <td>Houston</td>\n",
       "      <td>1392</td>\n",
       "    </tr>\n",
       "    <tr>\n",
       "      <th>7</th>\n",
       "      <td>ORD1007</td>\n",
       "      <td>Monitor</td>\n",
       "      <td>Electronics</td>\n",
       "      <td>2</td>\n",
       "      <td>415</td>\n",
       "      <td>2023-01-08</td>\n",
       "      <td>Los Angeles</td>\n",
       "      <td>830</td>\n",
       "    </tr>\n",
       "    <tr>\n",
       "      <th>8</th>\n",
       "      <td>ORD1008</td>\n",
       "      <td>Keyboard</td>\n",
       "      <td>Accessories</td>\n",
       "      <td>4</td>\n",
       "      <td>441</td>\n",
       "      <td>2023-01-09</td>\n",
       "      <td>Chicago</td>\n",
       "      <td>1764</td>\n",
       "    </tr>\n",
       "    <tr>\n",
       "      <th>9</th>\n",
       "      <td>ORD1009</td>\n",
       "      <td>Keyboard</td>\n",
       "      <td>Accessories</td>\n",
       "      <td>4</td>\n",
       "      <td>136</td>\n",
       "      <td>2023-01-10</td>\n",
       "      <td>Chicago</td>\n",
       "      <td>544</td>\n",
       "    </tr>\n",
       "  </tbody>\n",
       "</table>\n",
       "</div>"
      ],
      "text/plain": [
       "  Order_ID   Product     Category  Quantity  Price Order_Date Customer_City  \\\n",
       "0  ORD1000  Keyboard  Accessories         2    420 2023-01-01       Phoenix   \n",
       "1  ORD1001    Laptop  Electronics         5    416 2023-01-02       Houston   \n",
       "2  ORD1002    Laptop  Electronics         4    236 2023-01-03   Los Angeles   \n",
       "3  ORD1003     Mouse  Accessories         1    289 2023-01-04       Chicago   \n",
       "4  ORD1004     Phone  Electronics         5    424 2023-01-05   Los Angeles   \n",
       "5  ORD1005    Laptop  Accessories         3    263 2023-01-06   Los Angeles   \n",
       "6  ORD1006  Keyboard  Accessories         3    464 2023-01-07       Houston   \n",
       "7  ORD1007   Monitor  Electronics         2    415 2023-01-08   Los Angeles   \n",
       "8  ORD1008  Keyboard  Accessories         4    441 2023-01-09       Chicago   \n",
       "9  ORD1009  Keyboard  Accessories         4    136 2023-01-10       Chicago   \n",
       "\n",
       "   Total  \n",
       "0    840  \n",
       "1   2080  \n",
       "2    944  \n",
       "3    289  \n",
       "4   2120  \n",
       "5    789  \n",
       "6   1392  \n",
       "7    830  \n",
       "8   1764  \n",
       "9    544  "
      ]
     },
     "execution_count": 20,
     "metadata": {},
     "output_type": "execute_result"
    }
   ],
   "source": [
    "# a\n",
    "df['Total'] = df['Price'] * df['Quantity']\n",
    "df.head(10)"
   ]
  },
  {
   "cell_type": "code",
   "execution_count": null,
   "metadata": {},
   "outputs": [],
   "source": [
    "# b\n",
    "top_p = df.groupby('Product')['Total'].sum()\n",
    "\n",
    "top_five = top_p.sort_values(ascending=False)\n",
    "\n",
    "top_five"
   ]
  }
 ],
 "metadata": {
  "kernelspec": {
   "display_name": "env",
   "language": "python",
   "name": "python3"
  },
  "language_info": {
   "codemirror_mode": {
    "name": "ipython",
    "version": 3
   },
   "file_extension": ".py",
   "mimetype": "text/x-python",
   "name": "python",
   "nbconvert_exporter": "python",
   "pygments_lexer": "ipython3",
   "version": "3.13.3"
  }
 },
 "nbformat": 4,
 "nbformat_minor": 2
}
