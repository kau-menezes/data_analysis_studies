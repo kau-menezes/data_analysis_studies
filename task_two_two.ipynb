{
 "cells": [
  {
   "cell_type": "code",
   "execution_count": 1,
   "metadata": {},
   "outputs": [],
   "source": [
    "from pyspark.sql import SparkSession\n",
    "from pyspark.sql.functions import *\n",
    "from pyspark.ml.feature import VectorAssembler\n",
    "from pyspark.sql.types import *\n",
    "\n",
    "from pyspark.ml.stat import Correlation"
   ]
  },
  {
   "cell_type": "code",
   "execution_count": 2,
   "metadata": {},
   "outputs": [],
   "source": [
    "spark = (\n",
    "    SparkSession.builder\n",
    "        .master('local')\n",
    "        .appName('trilha_session')\n",
    "        .getOrCreate()\n",
    ")"
   ]
  },
  {
   "cell_type": "code",
   "execution_count": 3,
   "metadata": {},
   "outputs": [],
   "source": [
    "df = spark.read.csv('vehicle_signals.csv', header=True, inferSchema=True)"
   ]
  },
  {
   "cell_type": "markdown",
   "metadata": {},
   "source": [
    "2. Correlation Analysis:\n",
    "- a. Calculate the correlation between Speed, RPM and Fuel_Efficiency.\n",
    "- b. Identify which factor (Speed or RPM) has a stronger impact on Fuel_Efficiency."
   ]
  },
  {
   "cell_type": "code",
   "execution_count": 5,
   "metadata": {},
   "outputs": [],
   "source": [
    "selected_features = ['RPM', 'Speed', 'Fuel_Efficiency']\n",
    "\n",
    "assembler = VectorAssembler(inputCols=selected_features, outputCol=\"features\")\n",
    "\n",
    "df_correlation = assembler.transform(df.select(selected_features))"
   ]
  },
  {
   "cell_type": "code",
   "execution_count": null,
   "metadata": {},
   "outputs": [],
   "source": [
    "pearson_corr_matrix = Correlation.corr(df_correlation, \"features\", method=\"pearson\").head()\n",
    "\n",
    "pearson_corr_matrix"
   ]
  },
  {
   "cell_type": "code",
   "execution_count": null,
   "metadata": {},
   "outputs": [],
   "source": [
    "corr_values = pearson_corr_matrix[0].toArray()\n",
    "corr_values"
   ]
  },
  {
   "cell_type": "markdown",
   "metadata": {},
   "source": [
    "3. Signal-Based Insights:\n",
    "- a. Categorize vehicles based on their average engine RPM:\n",
    "  - i. Low RPM (<2000 RPM)\n",
    "  - ii. Optimal RPM (2000-4000 RPM)\n",
    "  - iii. High RPM (> 4000 RPM)\n",
    "- b. Count the number of vehicles in each RPM category.\n",
    "- c. Identify vehicles with Temperature > 230°F and classify them as Overheated.\n"
   ]
  },
  {
   "cell_type": "code",
   "execution_count": 4,
   "metadata": {},
   "outputs": [],
   "source": [
    "# df['Average_Engine'] = 'Low' if df['RPM'] < 2000 else 'Medium' if df['RPM'] >= 2000 & df['RPM'] < 4000 else 'High' \n",
    "\n",
    "df = df.withColumn(\n",
    "    'Average_Engine',\n",
    "    when(col('RPM') < 2000, 'Low')\n",
    "    .when((col('RPM') >= 2000) & (col('RPM') < 4000), 'Medium')\n",
    "    .otherwise('High')\n",
    ")\n"
   ]
  },
  {
   "cell_type": "code",
   "execution_count": null,
   "metadata": {},
   "outputs": [],
   "source": [
    "df.groupBy(\"Average_Engine\").count()\n"
   ]
  },
  {
   "cell_type": "code",
   "execution_count": 5,
   "metadata": {},
   "outputs": [],
   "source": [
    "df = df.withColumn(\n",
    "    'Heat_Status',\n",
    "    when(col('Temperature') > 230, 'Overheated')\n",
    "    .otherwise('Normal')\n",
    ")\n"
   ]
  },
  {
   "cell_type": "markdown",
   "metadata": {},
   "source": [
    "4. Visualization:\n",
    "- a. Create a line plot for a sample vehicle showing its RPM, Speed and Fuel_Efficiency over time (simulating time-series analysis).\n",
    "- b. Plot a scatter plot comparing Speed and Fuel_Efficiency with RPM as the color gradient.\n"
   ]
  },
  {
   "cell_type": "code",
   "execution_count": 6,
   "metadata": {},
   "outputs": [],
   "source": [
    "vehicle = df.filter(col('Vehicle_ID') == \"VH1008\")\n",
    "\n",
    "\n"
   ]
  },
  {
   "cell_type": "code",
   "execution_count": 7,
   "metadata": {},
   "outputs": [],
   "source": [
    "from pyspark.sql.functions import monotonically_increasing_id\n",
    "\n"
   ]
  },
  {
   "cell_type": "code",
   "execution_count": null,
   "metadata": {},
   "outputs": [
    {
     "ename": "PySparkTypeError",
     "evalue": "[NOT_COLUMN] Argument `col` should be a Column, got str.",
     "output_type": "error",
     "traceback": [
      "\u001b[31m---------------------------------------------------------------------------\u001b[39m",
      "\u001b[31mPySparkTypeError\u001b[39m                          Traceback (most recent call last)",
      "\u001b[36mCell\u001b[39m\u001b[36m \u001b[39m\u001b[32mIn[14]\u001b[39m\u001b[32m, line 2\u001b[39m\n\u001b[32m      1\u001b[39m \u001b[38;5;66;03m# Add a fake time column for plotting\u001b[39;00m\n\u001b[32m----> \u001b[39m\u001b[32m2\u001b[39m vehicle_with_time = \u001b[43mvehicle\u001b[49m\u001b[43m.\u001b[49m\u001b[43mwithColumn\u001b[49m\u001b[43m(\u001b[49m\u001b[33;43m\"\u001b[39;49m\u001b[33;43mTime\u001b[39;49m\u001b[33;43m\"\u001b[39;49m\u001b[43m,\u001b[49m\u001b[43m \u001b[49m\u001b[33;43m\"\u001b[39;49m\u001b[33;43m[1, 2, 3, 4]\u001b[39;49m\u001b[33;43m\"\u001b[39;49m\u001b[43m)\u001b[49m\n\u001b[32m      4\u001b[39m vehicle_with_time.show()\n",
      "\u001b[36mFile \u001b[39m\u001b[32mc:\\Users\\mek1ct\\Desktop\\trilha\\env\\Lib\\site-packages\\pyspark\\sql\\dataframe.py:5172\u001b[39m, in \u001b[36mDataFrame.withColumn\u001b[39m\u001b[34m(self, colName, col)\u001b[39m\n\u001b[32m   5129\u001b[39m \u001b[38;5;250m\u001b[39m\u001b[33;03m\"\"\"\u001b[39;00m\n\u001b[32m   5130\u001b[39m \u001b[33;03mReturns a new :class:`DataFrame` by adding a column or replacing the\u001b[39;00m\n\u001b[32m   5131\u001b[39m \u001b[33;03mexisting column that has the same name.\u001b[39;00m\n\u001b[32m   (...)\u001b[39m\u001b[32m   5169\u001b[39m \u001b[33;03m+---+-----+----+\u001b[39;00m\n\u001b[32m   5170\u001b[39m \u001b[33;03m\"\"\"\u001b[39;00m\n\u001b[32m   5171\u001b[39m \u001b[38;5;28;01mif\u001b[39;00m \u001b[38;5;129;01mnot\u001b[39;00m \u001b[38;5;28misinstance\u001b[39m(col, Column):\n\u001b[32m-> \u001b[39m\u001b[32m5172\u001b[39m     \u001b[38;5;28;01mraise\u001b[39;00m PySparkTypeError(\n\u001b[32m   5173\u001b[39m         error_class=\u001b[33m\"\u001b[39m\u001b[33mNOT_COLUMN\u001b[39m\u001b[33m\"\u001b[39m,\n\u001b[32m   5174\u001b[39m         message_parameters={\u001b[33m\"\u001b[39m\u001b[33marg_name\u001b[39m\u001b[33m\"\u001b[39m: \u001b[33m\"\u001b[39m\u001b[33mcol\u001b[39m\u001b[33m\"\u001b[39m, \u001b[33m\"\u001b[39m\u001b[33marg_type\u001b[39m\u001b[33m\"\u001b[39m: \u001b[38;5;28mtype\u001b[39m(col).\u001b[34m__name__\u001b[39m},\n\u001b[32m   5175\u001b[39m     )\n\u001b[32m   5176\u001b[39m \u001b[38;5;28;01mreturn\u001b[39;00m DataFrame(\u001b[38;5;28mself\u001b[39m._jdf.withColumn(colName, col._jc), \u001b[38;5;28mself\u001b[39m.sparkSession)\n",
      "\u001b[31mPySparkTypeError\u001b[39m: [NOT_COLUMN] Argument `col` should be a Column, got str."
     ]
    }
   ],
   "source": [
    "# Add a fake time column for plotting\n",
    "vehicle_with_time = vehicle.withColumn(\"Time\", monotonically_increasing_id())\n",
    "\n"
   ]
  },
  {
   "cell_type": "code",
   "execution_count": 9,
   "metadata": {},
   "outputs": [],
   "source": [
    "# Select columns safely\n",
    "sample_vehicle_pd = vehicle_with_time.select(\"Time\", \"RPM\", \"Speed\", \"Fuel_Efficiency\").limit(100).toPandas()"
   ]
  },
  {
   "cell_type": "code",
   "execution_count": 10,
   "metadata": {},
   "outputs": [
    {
     "data": {
      "image/png": "[encoded data removed]",
      "text/plain": [
       "<Figure size 1200x600 with 1 Axes>"
      ]
     },
     "metadata": {},
     "output_type": "display_data"
    }
   ],
   "source": [
    "import matplotlib.pyplot as plt\n",
    "\n",
    "plt.figure(figsize=(12, 6))\n",
    "plt.plot(sample_vehicle_pd[\"Time\"], sample_vehicle_pd[\"RPM\"], label=\"RPM\")\n",
    "plt.plot(sample_vehicle_pd[\"Time\"], sample_vehicle_pd[\"Speed\"], label=\"Speed\")\n",
    "plt.plot(sample_vehicle_pd[\"Time\"], sample_vehicle_pd[\"Fuel_Efficiency\"], label=\"Fuel Efficiency\")\n",
    "\n",
    "plt.xlabel(\"Time\")\n",
    "plt.ylabel(\"Value\")\n",
    "plt.title(\"Vehicle Metrics Over Time\")\n",
    "plt.legend()\n",
    "plt.grid(True)\n",
    "plt.tight_layout()\n",
    "plt.show()\n"
   ]
  }
 ],
 "metadata": {
  "kernelspec": {
   "display_name": "env",
   "language": "python",
   "name": "python3"
  },
  "language_info": {
   "codemirror_mode": {
    "name": "ipython",
    "version": 3
   },
   "file_extension": ".py",
   "mimetype": "text/x-python",
   "name": "python",
   "nbconvert_exporter": "python",
   "pygments_lexer": "ipython3",
   "version": "3.13.3"
  }
 },
 "nbformat": 4,
 "nbformat_minor": 2
}
